{
 "cells": [
  {
   "cell_type": "markdown",
   "metadata": {},
   "source": [
    "<img src=\"https://github.com/jupytercon/2020-exactlyallan/raw/master/images/RAPIDS-header-graphic.png\">"
   ]
  },
  {
   "cell_type": "markdown",
   "metadata": {},
   "source": [
    "# Explanatory Data Visualization\n",
    "***Interactive presentation dashboards***\n"
   ]
  },
  {
   "cell_type": "markdown",
   "metadata": {},
   "source": [
    "## Overview\n",
    "This final notebook is geared towards taking the previous findings and preparing them for presentation through an interactive Plotly Dash visualization application powered by cuDF and cuGraph's PageRank. \n",
    "\n",
    "### cuDF, cuGraph, cuxfilter, and Plotly Dash\n",
    "- [cuDF](https://docs.rapids.ai/api/cudf/stable/) is a RAPIDS GPU DataFrame library for manipulating data with a pandas-like API.\n",
    "\n",
    "- [cuGraph](https://docs.rapids.ai/api/cugraph/stable/) is a RAPIDS library for GPU accelerated graph analytics with functionality like NetworkX.\n",
    "\n",
    "- [cuxfilter](https://docs.rapids.ai/api/cuxfilter/nightly/) is a RAPIDS visualization library for cross-filtering data, designed to quickly build linked dashboards powered by cuDF compute capabilities. \n",
    "\n",
    "- [Plotly Dash](https://plotly.com/dash/) is a framework for specifying production ready visualization applications all in Python. "
   ]
  },
  {
   "cell_type": "markdown",
   "metadata": {},
   "source": [
    "## Dashboard Concepts and Audiences\n",
    "We've taken a bike share dataset, explored it, run analytics on it, and now have confidence in our ability to highlight the most important stations for two key usage patterns. The next step is communicating our findings - something at which visualization excels.\n",
    "\n",
    "However, a viz needs to be appropriate for the data it is showing, the audience it is intended to be shown to, and the medium or context it will be shown.\n",
    "\n",
    "For instance, is the presentation to highly technical colleagues already familiar with your work, as you drive the presentation from your personal machine? Or to executives at a board room? Or completely asynchronous through a web site with a wide range of audience expertise levels?\n",
    "\n",
    "Thinking about these ahead of time and preparing for them will lead to more successfully communicating your findings.\n",
    "\n",
    "As you think of this, it helps to explore previous works, such as the [Plotly Dash Gallery](https://dash-gallery.plotly.host/Portal/), for ideas and to see best practices (or worst practices, I'm looking at you 3D pie chart...).\n",
    "\n"
   ]
  },
  {
   "cell_type": "markdown",
   "metadata": {},
   "source": [
    "### A Note About Sketching and Design Iterations\n",
    "<img src=\"https://raw.githubusercontent.com/jupytercon/2020-exactlyallan/master/images/dashboard-sketch-ideas.jpg\" />\n",
    "<img src=\"https://raw.githubusercontent.com/jupytercon/2020-exactlyallan/master/images/plotly_dashboard_sketch.jpg\" />\n",
    "\n",
    "A well designed visualization owes as much to iteration as it does to skill (though experience helps). The more iterations, generally the better the viz. However, the mental overhead of our technical tools often get in the way of our thought process.\n",
    "\n",
    "By the time it takes to create a new notebook cell, look up the syntax for your favorite viz library, and load data - you could have quickly generated several iterations of ideas through sketches. \n",
    "\n",
    "As shown from our sketches above, they don't have to be high fidelity or even good - just enough to try out ideas quickly and communicate to colleagues. "
   ]
  },
  {
   "cell_type": "markdown",
   "metadata": {},
   "source": [
    "### Try It Now\n",
    "Pull out a piece of paper and do a few thumbnail sized sketches of variations on this dashboard - spending no more than 5-10 minutes. The messier the better. \n",
    "\n",
    "Thumbnail sketches are for thinking and personal consumption. Larger ones come later to help communicate ideas to colleagues. "
   ]
  },
  {
   "cell_type": "markdown",
   "metadata": {},
   "source": [
    "## Imports\n",
    "Now that we have sketched out our idea, lets prototype them. As usual, make sure the necessary imports are present to load, as well as setting the data location."
   ]
  },
  {
   "cell_type": "code",
   "execution_count": null,
   "metadata": {},
   "outputs": [],
   "source": [
    "import cudf\n",
    "import plotly.graph_objects as go\n",
    "import plotly.express as px\n",
    "from jupyter_dash import JupyterDash\n",
    "import dash_core_components as dcc\n",
    "import dash_html_components as html\n",
    "from dash.dependencies import Input, Output\n",
    "import pandas as pd\n",
    "import cugraph\n",
    "import cuxfilter\n",
    "from pathlib import Path\n",
    "\n",
    "DATA_DIR = Path(\"../data\")\n",
    "FILENAME = Path(\"modified_trips.parquet\")\n",
    "BINDER_BASE_URL = 'http://0.0.0.0:8000/'"
   ]
  },
  {
   "cell_type": "code",
   "execution_count": null,
   "metadata": {},
   "outputs": [],
   "source": [
    "trips = cudf.read_parquet(DATA_DIR / FILENAME)"
   ]
  },
  {
   "cell_type": "code",
   "execution_count": null,
   "metadata": {},
   "outputs": [],
   "source": [
    "trips['time_of_day'] = 0 # day\n",
    "trips.loc[trips.query('hour>19 or hour<8').index, 'time_of_day'] = 1 # night"
   ]
  },
  {
   "cell_type": "code",
   "execution_count": null,
   "metadata": {},
   "outputs": [],
   "source": [
    "# create a day_type string map\n",
    "day_type_map = {0:'weekday', 1:'weekend', '':'all'}\n",
    "time_of_day_map = {0:'day(8am-8pm)', 1:'night(8pm-8am)', '':'all'}"
   ]
  },
  {
   "cell_type": "markdown",
   "metadata": {},
   "source": [
    "### Dashboard Mockup with cuxfilter\n",
    "With our sketch idea of what we want the final explanatory visualization to look like, and what data it will show, lets try and create an interactive mockup to test our concept.\n",
    "\n",
    "As usual, we will load the data into cuDF and spec out the cuxfilter chart:"
   ]
  },
  {
   "cell_type": "code",
   "execution_count": null,
   "metadata": {},
   "outputs": [],
   "source": [
    "cux_df = cuxfilter.DataFrame.from_dataframe(trips)"
   ]
  },
  {
   "cell_type": "code",
   "execution_count": null,
   "metadata": {},
   "outputs": [],
   "source": [
    "# Specifying a scatter plot chart will use Datashader and its required parameters\n",
    "charts = [\n",
    "    cuxfilter.charts.scatter(x='x', y='y', tile_provider='CARTODBPOSITRON',\n",
    "                           point_size=3, pixel_shade_type='linear', pixel_spread='spread',\n",
    "                          title='All Trips'),\n",
    "    cuxfilter.charts.bar('all_time_week', title='Rides per week'),\n",
    "    cuxfilter.charts.multi_select('day_type', label_map=day_type_map),\n",
    "    cuxfilter.charts.multi_select('hour'),\n",
    "]\n",
    "\n",
    "# Generate the dashboard, select a layout and theme\n",
    "d = cux_df.dashboard(charts, layout=cuxfilter.layouts.feature_and_base, theme=cuxfilter.themes.rapids)\n"
   ]
  },
  {
   "cell_type": "code",
   "execution_count": null,
   "metadata": {},
   "outputs": [],
   "source": [
    "# Start the dashboard, a green button should appear to open one in a new tab.\n",
    "d.show(notebook_url=BINDER_BASE_URL, service_proxy='jupyterhub') #default parameter is notebook_url=\"http://localhost:8888\""
   ]
  },
  {
   "cell_type": "markdown",
   "metadata": {},
   "source": [
    "## Mockup Results\n",
    "The cuxfilter mockup should look something like this:\n",
    "<img src=\"https://raw.githubusercontent.com/jupytercon/2020-exactlyallan/master/images/notebook_04_dashboard_1.png\" />\n",
    "\n",
    "Overall the design seems to work, with the obvious caveat that we have yet to see PageRank in action. Nevertheless, because of how quick it is to build an interactive dashboard with cuxfilter, it can work well as a mock up tool.\n",
    "\n",
    "If your design calls for chart types or features which are difficult to fully test (like arbitrary function calls), mocking up still makes sense for even component elements or interactions, supplemented with tools like hvplot or Datashader.\n",
    "\n",
    "Mock ups are particularly important if you haven't connected real or a full set of your data to a visualization yet, since building an explanatory / production level application takes substantial effort (even with a simple API). Therefore, skipping lower fidelity interactive mockups will almost certainly end up wasting time on rework. With data visualization there are always surprises from unuseable results, slow performance, or the limitations of various chart interactions.\n",
    "\n",
    "As mentioned above with sketching, increasing the number of design iterations your visualization goes through improves its quality, and interactive mockups are a useful tool for that purpose.\n",
    "\n"
   ]
  },
  {
   "cell_type": "markdown",
   "metadata": {},
   "source": [
    "## Production Ready <br> Plotly Dash Visualization Application <br> with Real-time Page Rank Compute\n",
    "Now that we are confident that our chart types and interactions are appropriate, lets build the dashboard with help from the [Plotly Dash Documentation](https://dash.plotly.com/).\n",
    "\n",
    "First lets load the data into a cuDF and prepare it for the vis:"
   ]
  },
  {
   "cell_type": "code",
   "execution_count": null,
   "metadata": {},
   "outputs": [],
   "source": [
    "# Load the stations data from first notebook\n",
    "stations = cudf.read_csv(DATA_DIR / \"stations.csv\")\n",
    "\n",
    "# Get station names\n",
    "station_names = trips[['from_station_id', 'from_station_name']].drop_duplicates()\n",
    "station_names.columns = ['station_id', 'station_name']\n",
    "\n",
    "# Get total trips per station\n",
    "total_trips = (trips.groupby('from_station_id').size() + trips.groupby('to_station_id').size()).reset_index()\n",
    "total_trips.columns = ['station_id', 'total_trips']\n",
    "\n",
    "# Add total trips to dataframe\n",
    "stations = stations.merge(total_trips, on='station_id')\n",
    "stations = stations.merge(station_names, on='station_id')"
   ]
  },
  {
   "cell_type": "code",
   "execution_count": null,
   "metadata": {},
   "outputs": [],
   "source": [
    "stations.head()"
   ]
  },
  {
   "cell_type": "markdown",
   "metadata": {},
   "source": [
    "## Define Application Layout and Style\n",
    "Plotly Dash apps use standard web elements to define layouts and styles through `html`, `styles`, `class` and `css`. You can learn more on the [Dash layouts documentation](https://dash.plotly.com/layout). For our example we are using a locally hosted `css` file in the default folder: `/assets/dash-style.css` and inline `sytles.` \n",
    "\n",
    "Here we define our app and the layout to have a title `h1` tag, a `div` side bar for total trips and two drop down menus, and another `div` to contain the map chart and bar chart below: "
   ]
  },
  {
   "cell_type": "code",
   "execution_count": null,
   "metadata": {},
   "outputs": [],
   "source": [
    "app = JupyterDash(__name__)\n",
    "\n",
    "app.layout = html.Div([\n",
    "    html.Div([\n",
    "        html.H3([\"Divvy Bikeshare Chicago\"]),\n",
    "        html.H5([\"Total Selected Trips:\"]),\n",
    "        dcc.Loading(\n",
    "            dcc.Graph(id = 'number', figure = go.Figure(go.Indicator(mode = \"number\", value = trips.shape[0])),\n",
    "            style = {\n",
    "            'height': '250px'\n",
    "            }),\n",
    "            color = '#b0bec5'\n",
    "        ),\n",
    "        html.H5([\"Day of Week:\"]),\n",
    "        dcc.Dropdown(id = 'day', clearable = False, value = '',\n",
    "            options = [{'label': day_type_map[c],'value': c} for c in day_type_map]\n",
    "        ),\n",
    "        html.H5([\"Time of Day:\"]),\n",
    "        dcc.Dropdown(id = 'time', clearable = False, value = '',\n",
    "            options = [{'label': time_of_day_map[c], 'value': c} for c in time_of_day_map]\n",
    "        )],\n",
    "        style = {\n",
    "            'z-index' : '99',\n",
    "            'position': 'absolute',\n",
    "            'width': '15%',\n",
    "            'height': 'calc(100% - 2em)',\n",
    "            'padding': '1em 2em',\n",
    "            'background-color': '#aabacc',\n",
    "            'color': 'rgb(70, 105, 130)',\n",
    "            'box-shadow': '5px 0px 3px 0px rgba(0,0,0,0.1)'\n",
    "        }\n",
    "    ),\n",
    "    html.Div([\n",
    "        html.Div([\n",
    "            html.H5([\"Station Importance PageRank(Color) by Trips(Size)\"]),\n",
    "            dcc.Graph(id = 'pagerank_plot',\n",
    "                config = {'responsive': True, 'modeBarButtonsToRemove': ['select2d', 'lasso2d']}\n",
    "            )\n",
    "        ],\n",
    "        style = {\n",
    "            'display': 'inline-block',\n",
    "            'width': '100%',\n",
    "            'vertical-align': 'top'\n",
    "        }),\n",
    "        html.Div([\n",
    "            html.H5([\"Total Trips Per Week (2014-2017)\"]),\n",
    "            dcc.Graph(id = 'all_time_week_bar',\n",
    "                config = {'responsive': True, 'modeBarButtonsToRemove': ['zoom2d', 'zoomIn2d', 'zoomOut2d']}\n",
    "            )\n",
    "        ],\n",
    "        style = {\n",
    "            'display': 'inline-block',\n",
    "            'width': '100%'\n",
    "        })\n",
    "    ],\n",
    "    style = {\n",
    "        'width': 'calc(80% - 6em)',\n",
    "        'height': 'auto',\n",
    "        'margin-left': 'calc(15% + 6em)',\n",
    "        'padding-top': '2em',\n",
    "        'display': 'inline-block',\n",
    "        'vertical-align': 'top',\n",
    "        'color': '#aabacc'\n",
    "    })\n",
    "],\n",
    "style = {\n",
    "    'position': 'relative',\n",
    "    'border-bottom': '2px solid #aabacc'\n",
    "})\n"
   ]
  },
  {
   "cell_type": "markdown",
   "metadata": {},
   "source": [
    "## Define Function to Generate Plots with Plotly Express\n",
    "Next lets define the functions to build our two charts and link them to our data:"
   ]
  },
  {
   "cell_type": "code",
   "execution_count": null,
   "metadata": {},
   "outputs": [],
   "source": [
    "# Geospatial bubble chart based on Page Rank and Trip data\n",
    "def get_pagerank_plot(data):\n",
    "    df = calculate_page_rank(data).to_pandas()\n",
    "    g = px.scatter_mapbox(df, lat=\"lat\", lon=\"lon\", color=\"pagerank\", size=\"total_trips\",\n",
    "                          hover_data=[\"station_name\"], mapbox_style=\"carto-positron\",\n",
    "                          color_continuous_scale=px.colors.cyclical.Edge_r, size_max=15, zoom=10,\n",
    "                          height=700\n",
    "                         )\n",
    "    g.layout['uirevision'] = True\n",
    "    return g\n",
    "\n",
    "# Bar chart based on total trips over weeks\n",
    "def get_week_bar_chart(data):\n",
    "    all_time_week_df = data.groupby('all_time_week').size().reset_index()\n",
    "    all_time_week_df.columns = ['week', 'trips']\n",
    "    g = px.bar(all_time_week_df.to_pandas(), \n",
    "               x=\"week\", y='trips', template=dict(layout={'selectdirection': 'h',}), \n",
    "               height=300\n",
    "              )\n",
    "    g.layout['dragmode']='select'\n",
    "    g.layout['uirevision'] = True\n",
    "    return g"
   ]
  },
  {
   "cell_type": "markdown",
   "metadata": {},
   "source": [
    "## Define Function to Calculate Page Rank\n",
    "Because Plotly Dash applications are hosted through a python backend, the web based charts are able to call custom python functions. Lets use this feature and the speed of cuGraph to calculate new PageRank scores base on a user's selection:"
   ]
  },
  {
   "cell_type": "code",
   "execution_count": null,
   "metadata": {},
   "outputs": [],
   "source": [
    "def calculate_page_rank(data):\n",
    "    G = cugraph.Graph()\n",
    "    G.from_cudf_edgelist(data, source='from_station_id', destination='to_station_id')\n",
    "    data_page = cugraph.pagerank(G)\n",
    "    return data_page.merge(stations, left_on='vertex', right_on='station_id').drop(columns=['vertex'])"
   ]
  },
  {
   "cell_type": "markdown",
   "metadata": {},
   "source": [
    "## Define Events and Callbacks\n",
    "Here we define what happens when a user interacts with chart selections through [Dash callbacks](https://dash.plotly.com/basic-callbacks):"
   ]
  },
  {
   "cell_type": "code",
   "execution_count": null,
   "metadata": {},
   "outputs": [],
   "source": [
    "def bar_selection_to_query(selection, column):\n",
    "    \"\"\"\n",
    "    Compute pandas query expression string for selection callback data\n",
    "    Args:\n",
    "        selection: selectedData dictionary from Dash callback on a bar trace\n",
    "        column: Name of the column that the selected bar chart is based on\n",
    "    Returns:\n",
    "        String containing a query expression compatible with DataFrame.query. This\n",
    "        expression will filter the input DataFrame to contain only those rows that\n",
    "        are contained in the selection.\n",
    "    \"\"\"\n",
    "    point_inds = [p['label'] for p in selection['points']]\n",
    "    xmin = min(point_inds)  # bin_edges[min(point_inds)]\n",
    "    xmax = max(point_inds) + 1  # bin_edges[max(point_inds) + 1]\n",
    "    xmin_op = \"<=\"\n",
    "    xmax_op = \"<=\"\n",
    "    return f\"{xmin} {xmin_op} {column} and {column} {xmax_op} {xmax}\"\n",
    "\n",
    "# Define callback to update graph, id ties plot code to layout\n",
    "@app.callback(\n",
    "    [\n",
    "        Output('pagerank_plot', 'figure'),\n",
    "        Output('all_time_week_bar', 'figure'),\n",
    "        Output('number', 'figure')\n",
    "    ],\n",
    "    [\n",
    "        Input(\"day\", \"value\"), Input(\"time\", \"value\"),\n",
    "        Input(\"all_time_week_bar\", \"selectedData\")\n",
    "    ]\n",
    ")\n",
    "def update_figure(day, time, selected_weeks):\n",
    "    query = ['day_type == '+str(day) if day != \"\" else \"\", 'time_of_day =='+str(time) if time != \"\" else \"\"]\n",
    "    query_str = ' and '.join([x for x in query if x != \"\"])\n",
    "    \n",
    "    data = trips\n",
    "    if len(query_str) > 0:\n",
    "        data = trips.query(query_str)\n",
    "\n",
    "    week_bar_chart = get_week_bar_chart(data)\n",
    "    \n",
    "    if selected_weeks is not None:\n",
    "        query.append(bar_selection_to_query(selected_weeks, 'all_time_week'))\n",
    "        query_str = ' and '.join([x for x in query if x != \"\"])\n",
    "        if len(query) > 0:\n",
    "            data = trips.query(query_str)\n",
    "    \n",
    "    pagerank_plot = get_pagerank_plot(data)\n",
    "    \n",
    "    number = go.Figure(go.Indicator(\n",
    "                mode=\"number\",\n",
    "                value=data.shape[0]\n",
    "            ))\n",
    "\n",
    "    return pagerank_plot, week_bar_chart, number"
   ]
  },
  {
   "cell_type": "markdown",
   "metadata": {},
   "source": [
    "## Start the Plotly Dash Visualization\n",
    "Now that we have defined everything, lets run the application:"
   ]
  },
  {
   "cell_type": "code",
   "execution_count": null,
   "metadata": {},
   "outputs": [],
   "source": [
    "JupyterDash.infer_jupyter_proxy_config()"
   ]
  },
  {
   "cell_type": "code",
   "execution_count": null,
   "metadata": {},
   "outputs": [],
   "source": [
    "# NOTE: for Jupyterlab run:\n",
    "# app.run_server(mode=\"jupyterlab\")\n",
    "# To run inline with a notebook (not recommended):\n",
    "# app.run_server(mode=\"inline\")\n",
    "# For a seperate tab run, then click on the link:\n",
    "app.run_server(debug=False)\n"
   ]
  },
  {
   "cell_type": "markdown",
   "metadata": {},
   "source": [
    "## Final Plotly Dash Visualization\n",
    "This is what the dashboard should look like:\n",
    "\n",
    "<img src=\"https://raw.githubusercontent.com/jupytercon/2020-exactlyallan/master/images/PlotlyDash-Dashboard.png\">\n",
    "          \n",
    "Overall the speed of cuGraph's PageRank as well as the simple interactions make this dashboard intuitive and usable for quickly finding the most important bike stations. With preset filters, it succinctly gives an overview of how this complicated network behaves over time and is able to handle new data seamlessly (not bad for a tutorial app).  "
   ]
  },
  {
   "cell_type": "markdown",
   "metadata": {},
   "source": [
    "### Try It Now\n",
    "See if you can adjust the layout of the above app by reordering the `div` tags and changing the `style` tag values.\n",
    "\n",
    "Or try changing the `css` by adding a reference to `external_stylesheets` as shown below. You can use the external `css` files from example GitHub repos from their [Dash Gallery](https://dash-gallery.plotly.host/Portal/). \n",
    "\n",
    "\n",
    "```\n",
    "external_stylesheets = ['https://codepen.io/chriddyp/pen/bWLwgP.css']\n",
    "\n",
    "app = dash.Dash(__name__, external_stylesheets=external_stylesheets)\n",
    "```\n",
    "\n",
    "NOTE: you'll have to re-run all of the Plotly related cells after updating. Be forewarned, editing css in a notebook is a lot like [this](http://gph.is/1heneJM)."
   ]
  },
  {
   "cell_type": "markdown",
   "metadata": {},
   "source": [
    "## A Final Summary on the Benefits of <br> Running with RAPIDS\n",
    "\n",
    "Hopefully as you've clicked through these tutorial notebooks, you've noticed how seamless it is working within the RAPIDS libraries and with other libraries. One of the key goals of RAPIDS is to keep the tools and workflows you are familiar with, but turn them into end-to-end GPU accelerated pipelines. From ETL, exploration, analytics, and visualization - you can take advantage of the speed ups from GPUs.\n",
    "\n",
    "We on the viz team are continuing to integrate with other visualization libraries, and have projects in the works to improve the performance and capabilities of web visualizations even further.\n",
    "\n",
    "RAPIDS is still a relatively young project (we aren't even to 1.0 yet!), but we continue to work towards building out more features and improving. Stay up to date with our projects on our [Home](https://rapids.ai/), [GitHub](https://github.com/rapidsai), and [Twitter page](https://twitter.com/rapidsai)."
   ]
  },
  {
   "cell_type": "code",
   "execution_count": null,
   "metadata": {},
   "outputs": [],
   "source": []
  }
 ],
 "metadata": {
  "kernelspec": {
   "display_name": "Python 3",
   "language": "python",
   "name": "python3"
  },
  "language_info": {
   "codemirror_mode": {
    "name": "ipython",
    "version": 3
   },
   "file_extension": ".py",
   "mimetype": "text/x-python",
   "name": "python",
   "nbconvert_exporter": "python",
   "pygments_lexer": "ipython3",
   "version": "3.8.5"
  }
 },
 "nbformat": 4,
 "nbformat_minor": 4
}
