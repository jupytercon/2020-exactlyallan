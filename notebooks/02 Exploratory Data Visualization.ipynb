{
 "cells": [
  {
   "cell_type": "markdown",
   "metadata": {},
   "source": [
    "<img src=\"https://github.com/jupytercon/2020-exactlyallan/raw/master/images/RAPIDS-header-graphic.png\">"
   ]
  },
  {
   "cell_type": "markdown",
   "metadata": {},
   "source": [
    "# Exploratory Data Visualization\n",
    "***Quickly finding linked patterns in your data***\n"
   ]
  },
  {
   "cell_type": "markdown",
   "metadata": {},
   "source": [
    "## Overview\n",
    "\n",
    "Taking the previous notebook’s vetted Divvy bike share dataset, we will now use, cuDF, cuxfilter, and cuGraph to quickly create cross-filtered visualizations to explore different perspectives and slices of the data in search of interesting patterns. \n",
    "\n",
    "### cuxfilter and cuGraph\n",
    "- [cuDF](https://docs.rapids.ai/api/cudf/stable/) is a RAPIDS GPU DataFrame library for manipulating data with a pandas-like API.\n",
    "\n",
    "- [cuxfilter](https://docs.rapids.ai/api/cuxfilter/nightly/) is a RAPIDS viz project. Focused around cross-filtering data, its designed to quickly build linked dashboards powered by cuDF compute capabilities. Cuxfilter acts as a connector library rather than a visualization library. It abstracts away all the 'plumbing' required to connect a [curated list of visualizations](https://docs.rapids.ai/api/cuxfilter/nightly/charts/charts.html) to a GPU dataframe. By simply enabling accelerated dashboards inline within a notebook workflow, cuxfilter allows analysts to get to exploring their data faster.\n",
    "\n",
    "- [cuGraph](https://docs.rapids.ai/api/cugraph/stable/) is a RAPIDS GPU accelerated graph analytics library with functionality like NetworkX."
   ]
  },
  {
   "cell_type": "markdown",
   "metadata": {},
   "source": [
    " ### Cuxfilter Examples\n",
    "Learn about the detailed capabilities of cuxfilter in our [API Documentation](https://docs.rapids.ai/api/cuxfilter/stable/charts/charts.html) or click the examples below:\n",
    "\n",
    "<br><br>\n",
    "\n",
    "<img src=\"https://raw.githubusercontent.com/rapidsai/cuxfilter/branch-0.16/docs/_images/demo.gif\" width=\"700\" height=\"600\" /> <br>\n",
    "<p style=\"text-align: center\">\n",
    "    <a href=\"https://github.com/rapidsai/cuxfilter#example-1\"> Example Dashboard 1</a>\n",
    "</p>\n",
    "\n",
    "<br><br>\n",
    "\n",
    "<img src=\"https://raw.githubusercontent.com/rapidsai/cuxfilter/branch-0.16/docs/_images/demo2.gif\" width=\"700\" height=\"600\" /><br>\n",
    "<p style=\"text-align: center\">\n",
    "    <a href=\"https://github.com/rapidsai/cuxfilter#example-2\">Example Dashboard 2</a>\n",
    "</p>\n",
    "\n"
   ]
  },
  {
   "cell_type": "markdown",
   "metadata": {},
   "source": [
    "## Imports\n",
    "Let's first make sure the necessary imports are present to load, as well as setting the data location."
   ]
  },
  {
   "cell_type": "code",
   "execution_count": null,
   "metadata": {},
   "outputs": [],
   "source": [
    "import cuxfilter\n",
    "import cudf\n",
    "import cugraph\n",
    "from bokeh.models import NumeralTickFormatter\n",
    "from pyproj import Proj, Transformer\n",
    "from pathlib import Path"
   ]
  },
  {
   "cell_type": "markdown",
   "metadata": {},
   "source": [
    "## Load Data into cuDF\n",
    "As before, load `datda.csv` into the GPU dataframe:"
   ]
  },
  {
   "cell_type": "code",
   "execution_count": null,
   "metadata": {},
   "outputs": [],
   "source": [
    "DATA_DIR = Path(\"../data\")\n",
    "FILENAME = Path(\"data.csv\")\n",
    "\n",
    "data = cudf.read_csv(DATA_DIR / FILENAME)"
   ]
  },
  {
   "cell_type": "markdown",
   "metadata": {},
   "source": [
    "## Data Preprocessing\n",
    "Before we can visualize the data, we need to do some preprocessing to make it more human readable and usable for cuxfilter.\n",
    "\n",
    "First we need to transform the x/y coordinates from its original [espg4326 projection](https://epsg.io/4326) to the spherical [epsg:3857 projection](https://epsg.io/3857) that works with the maptile underlays used in cuxfilter:"
   ]
  },
  {
   "cell_type": "code",
   "execution_count": null,
   "metadata": {},
   "outputs": [],
   "source": [
    "def transform_coords(df, x='x', y='y'):\n",
    "    transform_4326_to_3857 = Transformer.from_crs('epsg:4326', 'epsg:3857')\n",
    "    df['x'], df['y'] = transform_4326_to_3857.transform(df[x].to_array(), df[y].to_array())\n",
    "    return df\n",
    "# Apply Transformation\n",
    "trips = transform_coords(data, x='latitude_start', y='longitude_start')"
   ]
  },
  {
   "cell_type": "markdown",
   "metadata": {},
   "source": [
    "Based on our previous finding about the apparent difference between weekends and weekdays, we will want to extract `day_type` from the dataset:"
   ]
  },
  {
   "cell_type": "code",
   "execution_count": null,
   "metadata": {},
   "outputs": [],
   "source": [
    "# Note: days 0-4 are weekedays, days 5-6 are weekends \n",
    "trips['day_type'] = 0\n",
    "trips.loc[trips.query('day>4').index, 'day_type'] = 1"
   ]
  },
  {
   "cell_type": "markdown",
   "metadata": {},
   "source": [
    "Choosing the appropriate fidelity of data to show always takes some trial and error. Showing total trips of every day for every year can be noisy, while showing by month is not granular enough. We settled on weeks. That means we will want to get the global week number in the dataset:"
   ]
  },
  {
   "cell_type": "code",
   "execution_count": null,
   "metadata": {},
   "outputs": [],
   "source": [
    "# Note: Data always has edge cases, such as the extra week anomalies of 2015 and 2016:\n",
    "# trips.groupby('year').week.max().to_pandas().to_dict() is {2014: 52, 2015: 53, 2016: 53, 2017: 52}\n",
    "# Since 2015 and 2016 have 53 weeks, we add 1 to global week count for their following years - 2016 & 2017\n",
    "# (data.year/2016).astype('int') => returns 1 if year>=2016, else 0\n",
    "year0 = int(trips.year.min()) #2014\n",
    "trips['all_time_week'] = data.week + 52*(data.year - year0) + (data.year/2016).astype('int')"
   ]
  },
  {
   "cell_type": "markdown",
   "metadata": {},
   "source": [
    "To make the dashboard values more understandable, we are creating string maps to convert the dataset's numbers to their proper names. Though it may seem trivial, it removes unnecessary ambiguity and helps [reduce cognitive load](https://www.nngroup.com/articles/minimize-cognitive-load/) when our focus needs to be on finding patterns:"
   ]
  },
  {
   "cell_type": "code",
   "execution_count": null,
   "metadata": {},
   "outputs": [],
   "source": [
    "# create a weekday string map\n",
    "days_of_week_map = {\n",
    "    0: 'monday',\n",
    "    1: 'tuesday',\n",
    "    2: 'wednesday',\n",
    "    3: 'thursday',\n",
    "    4: 'friday',\n",
    "    5: 'saturday',\n",
    "    6: 'sunday'\n",
    "}\n",
    "\n",
    "month_map = {\n",
    "    1: 'jan', 2: 'feb', 3: 'mar', 4: 'apr', 5: 'may', 6: 'jun', 7: 'jul', 8: 'aug', 9: 'sep', 10: 'oct', 11: 'nov', 12: 'dec'\n",
    "}\n",
    "day_type_map = {0:'weekday', 1:'weekend', '':'all'}"
   ]
  },
  {
   "cell_type": "markdown",
   "metadata": {},
   "source": [
    "Finally, we remove the unused columns and reorganize our dataframe:"
   ]
  },
  {
   "cell_type": "code",
   "execution_count": null,
   "metadata": {},
   "outputs": [],
   "source": [
    "trips = trips[[\n",
    "    'year', 'month', 'week', 'day', 'hour', 'gender', 'from_station_name',\n",
    "    'from_station_id', 'to_station_id', 'x', 'y', 'from_station_name', 'to_station_name', 'all_time_week', 'day_type'\n",
    "]]\n",
    "trips.head()"
   ]
  },
  {
   "cell_type": "code",
   "execution_count": null,
   "metadata": {},
   "outputs": [],
   "source": [
    "# Note: save modified trips dataframe to be imported in the final notebok\n",
    "trips.to_parquet(DATA_DIR / 'modified_trips.parquet')"
   ]
  },
  {
   "cell_type": "markdown",
   "metadata": {},
   "source": [
    "## cuxfilter Bike Trips Dashboard\n",
    "First lets investigate trip totals by varous time slices by linking the dataframe to cuxfilter:"
   ]
  },
  {
   "cell_type": "code",
   "execution_count": null,
   "metadata": {},
   "outputs": [],
   "source": [
    "cux_df = cuxfilter.DataFrame.from_dataframe(data)"
   ]
  },
  {
   "cell_type": "code",
   "execution_count": null,
   "metadata": {},
   "outputs": [],
   "source": [
    "# Specify the charts and widgets to use with the selected columns of data and string maps\n",
    "charts = [\n",
    "    cuxfilter.charts.bar('hour', title='trips per hour'),\n",
    "    cuxfilter.charts.bar('month', x_label_map=month_map),\n",
    "    cuxfilter.charts.bar('day', x_label_map=days_of_week_map),\n",
    "    cuxfilter.charts.multi_select('year'),\n",
    "    cuxfilter.charts.multi_select('day_type', label_map=day_type_map),\n",
    "]\n",
    "\n",
    "# Generate the dashboard and select a layout\n",
    "d = cux_df.dashboard(charts, layout=cuxfilter.layouts.feature_and_double_base, title='Bike Trips Dashboard')\n",
    "\n",
    "# Update the yaxis ticker to an easily readable format\n",
    "for i in charts:\n",
    "    if hasattr(i.chart, 'yaxis'):\n",
    "        i.chart.yaxis.formatter = NumeralTickFormatter(format=\"0,0\")"
   ]
  },
  {
   "cell_type": "code",
   "execution_count": null,
   "metadata": {},
   "outputs": [],
   "source": [
    "# Start the dashboard, a green button should appear to open one in a new tab.\n",
    "# Note: use the slider below each chart to cross filter.\n",
    "\n",
    "# IMPORTANT: replace notebook_url with your jupyterhub/binder base url\n",
    "d.show(notebook_url='http://127.0.0.1:8000', service_proxy='jupyterhub')"
   ]
  },
  {
   "cell_type": "markdown",
   "metadata": {},
   "source": [
    "## Bike Trips Findings\n",
    "The dashboard should look something like this:\n",
    "\n",
    "<img src=\"https://raw.githubusercontent.com/jupytercon/2020-exactlyallan/master//images/cuxfilter_02_dashboard_1.png\" />\n",
    "\n",
    "Some interesting points to note:\n",
    "- The overall distributions of trips remains very consistent\n",
    "- There is a clear pattern of weekday peaks around 7-9am and 4-6pm (commuters?)\n",
    "- There is a clear pattern of a weekend peak around 10am-8pm (tourists?) \n",
    "- Trips increase year over year, substantially decrease in the winter months, but the weekday commuter hours bring the most trips\n"
   ]
  },
  {
   "cell_type": "markdown",
   "metadata": {},
   "source": [
    "### Try It Out\n",
    "Now try using [cuxfilter's user guide](https://docs.rapids.ai/api/cuxfilter/nightly/) and our examples to create a dashboard of the above data using a different layouts, themes, and chart types."
   ]
  },
  {
   "cell_type": "code",
   "execution_count": null,
   "metadata": {},
   "outputs": [],
   "source": [
    "# code here"
   ]
  },
  {
   "cell_type": "markdown",
   "metadata": {},
   "source": [
    "## cuxfilter Temperature Dashboard\n",
    "Lets continue investigating, this time following up on the increasing trips year over year and decreases in winter months. "
   ]
  },
  {
   "cell_type": "code",
   "execution_count": null,
   "metadata": {},
   "outputs": [],
   "source": [
    "# Specify the charts and widgets to use with the selected columns of data and string maps\n",
    "charts = [\n",
    "    cuxfilter.charts.bar('all_time_week', title='rides per week'),\n",
    "    cuxfilter.charts.heatmap(x='all_time_week', y='day', aggregate_col='temperature',\n",
    "                             aggregate_fn='mean', point_size=40, legend_position='right',\n",
    "                             title='mean temperature by day'),\n",
    "    cuxfilter.charts.multi_select('day_type', label_map=day_type_map),\n",
    "]\n",
    "\n",
    "# Generate the dashboard and select a layout\n",
    "d = cux_df.dashboard(charts, layout=cuxfilter.layouts.feature_and_base, title='Temperature Dashboard')\n",
    "\n",
    "# Update the yaxis ticker to an easily readable format\n",
    "for i in charts:\n",
    "    if hasattr(i.chart, 'yaxis'):\n",
    "        i.chart.yaxis.formatter = NumeralTickFormatter(format=\"0,0\")"
   ]
  },
  {
   "cell_type": "code",
   "execution_count": null,
   "metadata": {},
   "outputs": [],
   "source": [
    "# Start the dashboard, a green button should appear to open one in a new tab.\n",
    "# Note: pan to match up the top and bottom chart axis\n",
    "\n",
    "# IMPORTANT: replace notebook_url with your jupyterhub/binder base url\n",
    "d.show(notebook_url='http://127.0.0.1:8000', service_proxy='jupyterhub')"
   ]
  },
  {
   "cell_type": "markdown",
   "metadata": {},
   "source": [
    "## Weather Findings\n",
    "The dashboard should look something like this:\n",
    "<img src=\"https://raw.githubusercontent.com/jupytercon/2020-exactlyallan/master//images/cuxfilter_02_dashboard_2.png\" />\n",
    "\n",
    "The weather's effect becomes clear in this dashboard as warmer temperatures seem to strongly match a large increase in ride counts - which intuitively makes sense. But aside developing weather control, there is'nt much that can be done to respond to this finding. \n"
   ]
  },
  {
   "cell_type": "markdown",
   "metadata": {},
   "source": [
    "## cuxfilter Geospatial Trips Graph\n",
    "Next, lets take a look at the geospatial element of the data and see if we can find interesting patterns. Based on how the trip data is logged, converting it into a graph will make managing it easier.\n",
    "\n",
    "For this we will need [cuGraph](https://docs.rapids.ai/api/cugraph/stable/api.html) to translate the dataset into an edge list:"
   ]
  },
  {
   "cell_type": "code",
   "execution_count": null,
   "metadata": {},
   "outputs": [],
   "source": [
    "G = cugraph.Graph() \n",
    "G.from_cudf_edgelist(data, source='from_station_id', destination='to_station_id')\n",
    "edges = G.edges()"
   ]
  },
  {
   "cell_type": "code",
   "execution_count": null,
   "metadata": {},
   "outputs": [],
   "source": [
    "# Trips have been converted into edges with source and destination based on station IDs.\n",
    "edges.head()"
   ]
  },
  {
   "cell_type": "markdown",
   "metadata": {},
   "source": [
    "Next we load the formatted data into cuxfilter and specify the chart types:"
   ]
  },
  {
   "cell_type": "code",
   "execution_count": null,
   "metadata": {},
   "outputs": [],
   "source": [
    "cux_df = cuxfilter.DataFrame.load_graph((trips, edges))"
   ]
  },
  {
   "cell_type": "code",
   "execution_count": null,
   "metadata": {},
   "outputs": [],
   "source": [
    "# Specifying a graph chart type will use Datashader and its required parameters\n",
    "charts = [\n",
    "    cuxfilter.charts.graph(\n",
    "        node_id='from_station_id',\n",
    "        edge_source='src', edge_target='dst',\n",
    "        node_aggregate_fn='count',\n",
    "        node_pixel_shade_type='linear', node_point_size=35, #node size is fixed\n",
    "        edge_render_type='curved', #other option: direct\n",
    "        edge_transparency=0.7, #0.1 - 0.9\n",
    "        tile_provider='CARTODBPOSITRON', \n",
    "        title='Graph for trip source_stations (color by count)'\n",
    "    ),\n",
    "    cuxfilter.charts.multi_select('year'),\n",
    "    cuxfilter.charts.multi_select('day_type', label_map=day_type_map),\n",
    "    cuxfilter.charts.bar('from_station_id'),\n",
    "    cuxfilter.charts.bar('to_station_id'),\n",
    "    cuxfilter.charts.view_dataframe(['from_station_name', 'from_station_id'], drop_duplicates=True)\n",
    "]\n",
    "\n",
    "# Generate the dashboard, select a layout and theme\n",
    "d = cux_df.dashboard(charts, layout=cuxfilter.layouts.feature_and_triple_base, theme=cuxfilter.themes.rapids, title='Geospatial Trips')\n",
    "\n",
    "# Update the yaxis ticker to an easily readable format\n",
    "for i in charts:\n",
    "    if hasattr(i.chart, 'yaxis'):\n",
    "        i.chart.yaxis.formatter = NumeralTickFormatter(format=\"0,0\")"
   ]
  },
  {
   "cell_type": "code",
   "execution_count": null,
   "metadata": {},
   "outputs": [],
   "source": [
    "# Start the dashboard, a green button should appear to open one in a new tab.\n",
    "# Note: Graph edges can be turned on/off via the line tool icon\n",
    "# Note: Inspect Neighboring Edges can be turned on/off for box or lasso select\n",
    "# Caution: Selecting areas with Inspect Neighboring Edges on can result in slow performance or OOM errors  \n",
    "# Caution: If the dashboard freezes, simply close the tab and restart this cell\n",
    "# Note: This is rendering 9 MILLION edges\n",
    "\n",
    "# IMPORTANT: replace notebook_url with your jupyterhub/binder base url\n",
    "d.show(notebook_url='http://127.0.0.1:8000', environment='jupyterhub')"
   ]
  },
  {
   "cell_type": "markdown",
   "metadata": {},
   "source": [
    "## Geospatial Findings\n",
    "The dashboard should look something like this:\n",
    "<img src=\"https://raw.githubusercontent.com/jupytercon/2020-exactlyallan/master//images/cuxfilter_02_dashboard_3.png\" />\n",
    "\n",
    "Overall there are many patterns of interest:\n",
    "- There is overall high bike network utilization\n",
    "- A smaller core region of the network accounts for a majority of the trips\n",
    "- Most of these core trips seem to relate the the weekday commuters\n",
    "- The weekend trips are more spread out along the coast\n",
    "- The older parts of the network start in the core and radiate outward though the years\n"
   ]
  },
  {
   "cell_type": "markdown",
   "metadata": {},
   "source": [
    "## cuxfilter Network and Geospatial Graph\n",
    "While the above produced many findings, filtering through so many trip edges is not ideal.\n",
    "Next we will try to push the visual analytics further with a clustered network graph along side the geospatial graph using the [ForceAtlas2](https://docs.rapids.ai/api/cugraph/stable/api.html?highlight=force#module-cugraph.layout.force_atlas2) algorithm from cuGraph:"
   ]
  },
  {
   "cell_type": "code",
   "execution_count": null,
   "metadata": {},
   "outputs": [],
   "source": [
    "# Note: Often a good visualization result only comes from a lot of trial and error\n",
    "# The below parameters produce useful clustering, but try experimenting with them further\n",
    "ITERATIONS=500\n",
    "THETA=10.0\n",
    "OPTIMIZE=True\n",
    "\n",
    "# Using the previously created edge list, we calculate the FA2 layout positions here\n",
    "trips_force_atlas2_layout = cugraph.layout.force_atlas2(G, max_iter=ITERATIONS,\n",
    "                strong_gravity_mode=False,\n",
    "                outbound_attraction_distribution=True,\n",
    "                lin_log_mode=False,\n",
    "                barnes_hut_optimize=OPTIMIZE, barnes_hut_theta=THETA, verbose=True)"
   ]
  },
  {
   "cell_type": "markdown",
   "metadata": {},
   "source": [
    "Merge the calculated forceAtlas2 layout with the trip dataframe:"
   ]
  },
  {
   "cell_type": "code",
   "execution_count": null,
   "metadata": {},
   "outputs": [],
   "source": [
    "final_df = trips_force_atlas2_layout.merge(\n",
    "                trips[['from_station_id', 'from_station_name','to_station_id', 'year', 'hour', 'day_type', 'x', 'y']],\n",
    "                left_on='vertex',\n",
    "                right_on='from_station_id',\n",
    "                suffixes=('', '_original')\n",
    ")\n",
    "\n",
    "# Preview\n",
    "final_df.head()"
   ]
  },
  {
   "cell_type": "markdown",
   "metadata": {},
   "source": [
    "Next we load the data into cuxfilter and specify the chart types:"
   ]
  },
  {
   "cell_type": "code",
   "execution_count": null,
   "metadata": {},
   "outputs": [],
   "source": [
    "cux_df = cuxfilter.DataFrame.load_graph((final_df, edges))"
   ]
  },
  {
   "cell_type": "code",
   "execution_count": null,
   "metadata": {},
   "outputs": [],
   "source": [
    "# Both scatter and graph chart types use Datashader \n",
    "charts= [\n",
    "  cuxfilter.charts.graph(\n",
    "      edge_source='src', edge_target='dst',\n",
    "      edge_color_palette=['gray', 'black'],\n",
    "      ode_pixel_shade_type='linear',\n",
    "      edge_render_type='curved', #other option: direct\n",
    "      edge_transparency=0.7, #0.1 - 0.9\n",
    "      title='ForceAtlas2 Layout Graph'\n",
    "  ),\n",
    "  cuxfilter.charts.scatter(\n",
    "    x='x_original', y='y_original', \n",
    "    tile_provider='CARTODBPOSITRON',\n",
    "    point_size=3,\n",
    "    pixel_shade_type='linear',\n",
    "    pixel_spread='spread',\n",
    "    title='Original Layout'\n",
    "  ),\n",
    "  cuxfilter.charts.multi_select('year'),\n",
    "  cuxfilter.charts.multi_select('day_type', label_map={0:'weekday', 1:'weekend', '':'all'}),\n",
    "  cuxfilter.charts.bar('hour', title='Trips per hour'),\n",
    "  cuxfilter.charts.bar('from_station_id', title='Source station'),\n",
    "  cuxfilter.charts.bar('to_station_id', title='Destination station'),\n",
    "  cuxfilter.charts.view_dataframe(['from_station_id', 'from_station_name'], drop_duplicates=True)\n",
    "] \n",
    "\n",
    "# Generate the dashboard, select a layout and theme\n",
    "d = cux_df.dashboard(charts, layout=cuxfilter.layouts.double_feature_quad_base, theme=cuxfilter.themes.rapids, title=\"Network and Geospatial Graph\")\n",
    "\n",
    "# Update the yaxis ticker to an easily readable format\n",
    "for i in charts:\n",
    "    if hasattr(i.chart, 'yaxis'):\n",
    "        i.chart.yaxis.formatter = NumeralTickFormatter(format=\"0,0\")"
   ]
  },
  {
   "cell_type": "code",
   "execution_count": null,
   "metadata": {},
   "outputs": [],
   "source": [
    "# Start the dashboard, a green button should appear to open one in a new tab.\n",
    "# Note: Graph edges can be turned on/off via the line tool icon\n",
    "# Note: Inspect Neighboring Edges can be turned on/off for box or lasso select\n",
    "# Caution: Selecting areas with Inspect Neighboring Edges on can result in slow performance or OOM errors  \n",
    "# Caution: If the dashboard freezes, simply close the tab and restart this cell\n",
    "# Note: This is rendering 9 MILLION edges\n",
    "\n",
    "# IMPORTANT: replace notebook_url with your jupyterhub/binder base url\n",
    "d.show(notebook_url='http://127.0.0.1:8000', environment='jupyterhub')"
   ]
  },
  {
   "cell_type": "markdown",
   "metadata": {},
   "source": [
    "## Network and Geospatial Findings\n",
    "The dashboard should look something like this:\n",
    "<img src=\"https://raw.githubusercontent.com/jupytercon/2020-exactlyallan/master/images/cuxfilter_02_dashboard_4.png\" />\n",
    "\n",
    "Running the FA2 algorithm to group the station nodes together in a graph and placing the geospatial chart along side provided some compelling findings:\n",
    "- Stations form clusters of connectivity that are clearly geographically distinct \n",
    "- The core weekday group is actually multiple distinct clusters in close proximity (different work districts?)\n",
    "- The weekday group stays focused until after work hours where they then disperse north (happy hour?)\n",
    "- The weekend group is overall more spread out, starting along the coast then dispersing throughout the city towards the evening (sight seeing?)\n",
    "- Theater on Lake Station is a hyper focal point for the weekend group\n",
    "\n",
    "These are only a few notable points found relatively quickly - there are certainly more patterns.\n"
   ]
  },
  {
   "cell_type": "markdown",
   "metadata": {},
   "source": [
    "## Summary of Exploratory Findings\n",
    "Based on the exploratory analytics done above, we've found that there are two distinct groups of behaviors based on time (hour / weekend / weekday) and location. With the next notebook, we will see if we can coax out further information about these groups using more advanced data analytics."
   ]
  },
  {
   "cell_type": "markdown",
   "metadata": {},
   "source": [
    " "
   ]
  },
  {
   "cell_type": "markdown",
   "metadata": {},
   "source": [
    "### cuxfilter Troubleshooting\n",
    "As we just released the graph visualization capability in cuxfilter, we are still working on building out features and fixes. \n",
    "\n",
    "If you find something that needs fixing or have feature requests, please submit an [issue on our Github Page](https://github.com/rapidsai/cuxfilter/issues). Better yet, [help contribute](https://github.com/rapidsai/cuxfilter#contributing-developers-guide). "
   ]
  }
 ],
 "metadata": {
  "kernelspec": {
   "display_name": "Python 3",
   "language": "python",
   "name": "python3"
  },
  "language_info": {
   "codemirror_mode": {
    "name": "ipython",
    "version": 3
   },
   "file_extension": ".py",
   "mimetype": "text/x-python",
   "name": "python",
   "nbconvert_exporter": "python",
   "pygments_lexer": "ipython3",
   "version": "3.8.5"
  }
 },
 "nbformat": 4,
 "nbformat_minor": 4
}
